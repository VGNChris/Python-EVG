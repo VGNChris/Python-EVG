{
 "cells": [
  {
   "cell_type": "markdown",
   "metadata": {},
   "source": [
    "# 1.1.1: Atribuição de Variáveis\n",
    "\n",
    "As variáveis são as mesmas que as variáveis em matemática, exceto que variáveis matemáticas são muitas vezes letras, mas variáveis de programação podem ser palavras.\n",
    "\n",
    "Variáveis: um conjunto que contém algumas informações.\n",
    "\n",
    "Nota sobre a declaração de variáveis:\n",
    "\n",
    "- Case-sensitive (ou seja, caracteres em caixa alta ou baixa são tratados como diferentes)\n",
    "- **DEVE** começar com uma letra ou um sublinhado; **NÃO PODE** começar com números.\n",
    "- **NÃO PODE** ser o mesmo nome que as palavras-chave Python (por exemplo, class, finally, etc.)\n",
    "- **NÃO** especificar o tipo de informação armazenada na variável. (Consulte os seguintes códigos para um exemplo.)\n"
   ]
  },
  {
   "cell_type": "code",
   "execution_count": 1,
   "metadata": {},
   "outputs": [],
   "source": [
    "# Exemplos de declarações de variáveis\n",
    "width = 10\n",
    "\n",
    "# Note que o \"H\" está em letra maiúscula\n",
    "Height = 5\n",
    "\n",
    "area = 0"
   ]
  },
  {
   "cell_type": "code",
   "execution_count": 2,
   "metadata": {},
   "outputs": [
    {
     "data": {
      "text/plain": [
       "10"
      ]
     },
     "execution_count": 2,
     "metadata": {},
     "output_type": "execute_result"
    }
   ],
   "source": [
    "width"
   ]
  },
  {
   "cell_type": "code",
   "execution_count": 6,
   "metadata": {},
   "outputs": [
    {
     "data": {
      "text/plain": [
       "5"
      ]
     },
     "execution_count": 6,
     "metadata": {},
     "output_type": "execute_result"
    }
   ],
   "source": [
    "Height"
   ]
  },
  {
   "cell_type": "code",
   "execution_count": 7,
   "metadata": {},
   "outputs": [
    {
     "ename": "SyntaxError",
     "evalue": "invalid syntax (3421813681.py, line 4)",
     "output_type": "error",
     "traceback": [
      "\u001b[1;36m  Cell \u001b[1;32mIn[7], line 4\u001b[1;36m\u001b[0m\n\u001b[1;33m    global = 1\u001b[0m\n\u001b[1;37m           ^\u001b[0m\n\u001b[1;31mSyntaxError\u001b[0m\u001b[1;31m:\u001b[0m invalid syntax\n"
     ]
    }
   ],
   "source": [
    "# Usando uma palavra-chave python como um nome variável\n",
    "# ERROR CODE: sintaxe inválida\n",
    " \n",
    "global = 1\n",
    "\n",
    "global"
   ]
  },
  {
   "cell_type": "code",
   "execution_count": 8,
   "metadata": {},
   "outputs": [],
   "source": [
    "# Mais declarações para diferentes tipos de variáveis  \n",
    "\n",
    "# armazenando uma string\n",
    "helloMessage = \"Hello World!\"\n",
    "first_name = \"John\"\n",
    "\n",
    "# armazenando um caractere\n",
    "character_example = 'a'\n",
    "\n",
    "# armazenando um float \n",
    "_newFloat = 1.0\n",
    "\n",
    "# armazenando um valor booleano\n",
    "bool_Condition = True"
   ]
  },
  {
   "cell_type": "code",
   "execution_count": 9,
   "metadata": {},
   "outputs": [
    {
     "data": {
      "text/plain": [
       "'John'"
      ]
     },
     "execution_count": 9,
     "metadata": {},
     "output_type": "execute_result"
    }
   ],
   "source": [
    "first_name"
   ]
  }
 ],
 "metadata": {
  "kernelspec": {
   "display_name": "Python 3",
   "language": "python",
   "name": "python3"
  },
  "language_info": {
   "codemirror_mode": {
    "name": "ipython",
    "version": 3
   },
   "file_extension": ".py",
   "mimetype": "text/x-python",
   "name": "python",
   "nbconvert_exporter": "python",
   "pygments_lexer": "ipython3",
   "version": "3.12.9"
  }
 },
 "nbformat": 4,
 "nbformat_minor": 2
}
